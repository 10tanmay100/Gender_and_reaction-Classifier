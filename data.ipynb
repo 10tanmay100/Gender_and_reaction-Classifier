{
 "cells": [
  {
   "cell_type": "code",
   "execution_count": 11,
   "metadata": {},
   "outputs": [],
   "source": [
    "from pathlib import Path\n",
    "import yaml"
   ]
  },
  {
   "cell_type": "code",
   "execution_count": 36,
   "metadata": {},
   "outputs": [],
   "source": [
    "with open(\"F:\\Project Ineuron\\Gender_react_classifier\\Gender_and_reaction-Classifier\\configs\\config.yaml\",\"r\") as f:\n",
    "    ans=yaml.safe_load(f)\n"
   ]
  },
  {
   "cell_type": "code",
   "execution_count": 37,
   "metadata": {},
   "outputs": [
    {
     "data": {
      "text/plain": [
       "{'artifacts': 'artifact_name:\"artifacts\"',\n",
       " 'data_ingestion': {'stage_folder_name': 'data_ingestion',\n",
       "  'data_source_one': 'https://www.kaggle.com/datasets/cashutosh/gender-classification-dataset',\n",
       "  'data_source_second': 'https://www.kaggle.com/datasets/chazzer/smiling-or-not-face-data',\n",
       "  'local_data_file_one': 'artifacts/data_ingestion/data_first/raw_data/',\n",
       "  'local_data_file_two': 'artifacts/data_ingestion/data_second/raw_data/',\n",
       "  'local_data_file_train_one': 'artifacts/data_ingestion/train_first/',\n",
       "  'local_data_file_train_two': 'artifacts/data_ingestion/train_second/',\n",
       "  'local_data_file_test_one': 'artifacts/data_ingestion/test_first/',\n",
       "  'local_data_file_test_two': 'artifacts/data_ingestion/test_second/'}}"
      ]
     },
     "execution_count": 37,
     "metadata": {},
     "output_type": "execute_result"
    }
   ],
   "source": [
    "ans"
   ]
  },
  {
   "cell_type": "code",
   "execution_count": 38,
   "metadata": {},
   "outputs": [
    {
     "data": {
      "text/plain": [
       "dict_keys(['artifacts', 'data_ingestion'])"
      ]
     },
     "execution_count": 38,
     "metadata": {},
     "output_type": "execute_result"
    }
   ],
   "source": [
    "ans.keys()"
   ]
  },
  {
   "cell_type": "code",
   "execution_count": 48,
   "metadata": {},
   "outputs": [
    {
     "data": {
      "text/plain": [
       "['local_data_file_one',\n",
       " 'local_data_file_two',\n",
       " 'local_data_file_train_one',\n",
       " 'local_data_file_train_two',\n",
       " 'local_data_file_test_one',\n",
       " 'local_data_file_test_two']"
      ]
     },
     "execution_count": 48,
     "metadata": {},
     "output_type": "execute_result"
    }
   ],
   "source": [
    "list(ans['data_ingestion'].keys())[3:]"
   ]
  },
  {
   "cell_type": "code",
   "execution_count": 49,
   "metadata": {},
   "outputs": [
    {
     "data": {
      "text/plain": [
       "[0, 1, 2, 3, 4, 5, 6, 7, 8, 9, 10, 11]"
      ]
     },
     "execution_count": 49,
     "metadata": {},
     "output_type": "execute_result"
    }
   ],
   "source": [
    "[i for i in range(12)]"
   ]
  },
  {
   "cell_type": "code",
   "execution_count": 9,
   "metadata": {},
   "outputs": [],
   "source": [
    "package_name=\"gender_reaction_classifier\"\n",
    "\n",
    "#mentioned the list of files and folders I want to create for this project\n",
    "list_of_files=[\".github/workflows/.gitkeep\",\n",
    "               \"configs/\",\n",
    "               \"artifacts/data_ingestion/\",\n",
    "               \"test/unit/\",\n",
    "               \"test/integration/\",\n",
    "               \"params.yaml\",\n",
    "               \"setup.py\",\n",
    "               \"setup.cfg\",\n",
    "               \"pyproject.toml\",\n",
    "               \"requirements.txt\" ,\n",
    "               \"requirements_dev.txt\",\n",
    "               \"tox.ini\",\n",
    "               \"init_setup.sh\",\n",
    "               f\"src/{package_name}/__init__.py\",\n",
    "               f\"src/{package_name}/components/__init__.py\",\n",
    "               f\"src/{package_name}/config/__init__.py\",\n",
    "               f\"src/{package_name}/entity/__init__.py\",\n",
    "               f\"src/{package_name}/pipeline/__init__.py\",\n",
    "               f\"src/{package_name}/utils/__init__.py\",\n",
    "               f\"src/{package_name}/utils/common.py\",\n",
    "               f\"src/{package_name}/constants/\"]\n"
   ]
  },
  {
   "cell_type": "code",
   "execution_count": null,
   "metadata": {},
   "outputs": [],
   "source": [
    "from pathlib import Path\n",
    "import os\n",
    "for files in list_of_files:\n",
    "    try:\n",
    "        path,filename=os.path.split(files)\n",
    "        if path!=\"\":\n",
    "            if not os.path.exists(Path(path)):\n",
    "                os.makedirs(Path(path),exist_ok=True)\n",
    "                if filename!=\"\":\n",
    "                    with open(Path(path+\"/\"+filename),\"w\") as f:\n",
    "                        pass\n",
    "                    logging.info(f\"{path}/{filename} has been created successfully!!\")\n",
    "\n",
    "            else:\n",
    "                logging.info(f\"{path}/{filename} already exists!!\")\n",
    "        else:\n",
    "            print('filename',filename)\n",
    "            if not os.path.exists(filename):\n",
    "                with open(filename,\"w\") as f:\n",
    "                    pass\n",
    "                print(f\"{filename} has been created successfully!!\")\n",
    "            else:\n",
    "                print(f\"{filename} already exists!!\")\n",
    "    except Exception as e:\n",
    "        print(f\"error has happened while creating the fiile and folders  !!!,{e}\")"
   ]
  },
  {
   "cell_type": "code",
   "execution_count": 10,
   "metadata": {},
   "outputs": [
    {
     "name": "stdout",
     "output_type": "stream",
     "text": [
      "('.github/workflows', '.gitkeep')\n",
      "('configs', '')\n",
      "('artifacts/data_ingestion', '')\n",
      "('test/unit', '')\n",
      "('test/integration', '')\n",
      "('', 'params.yaml')\n",
      "('', 'setup.py')\n",
      "('', 'setup.cfg')\n",
      "('', 'pyproject.toml')\n",
      "('', 'requirements.txt')\n",
      "('', 'requirements_dev.txt')\n",
      "('', 'tox.ini')\n",
      "('', 'init_setup.sh')\n",
      "('src/gender_reaction_classifier', '__init__.py')\n",
      "('src/gender_reaction_classifier/components', '__init__.py')\n",
      "('src/gender_reaction_classifier/config', '__init__.py')\n",
      "('src/gender_reaction_classifier/entity', '__init__.py')\n",
      "('src/gender_reaction_classifier/pipeline', '__init__.py')\n",
      "('src/gender_reaction_classifier/utils', '__init__.py')\n",
      "('src/gender_reaction_classifier/utils', 'common.py')\n",
      "('src/gender_reaction_classifier/constants', '')\n"
     ]
    }
   ],
   "source": [
    "for files in list_of_files:\n",
    "    print(os.path.split(files))"
   ]
  },
  {
   "cell_type": "code",
   "execution_count": null,
   "metadata": {},
   "outputs": [],
   "source": []
  },
  {
   "cell_type": "code",
   "execution_count": null,
   "metadata": {},
   "outputs": [],
   "source": []
  },
  {
   "cell_type": "code",
   "execution_count": null,
   "metadata": {},
   "outputs": [],
   "source": []
  }
 ],
 "metadata": {
  "kernelspec": {
   "display_name": "Python 3.9.13 (conda)",
   "language": "python",
   "name": "python3"
  },
  "language_info": {
   "codemirror_mode": {
    "name": "ipython",
    "version": 3
   },
   "file_extension": ".py",
   "mimetype": "text/x-python",
   "name": "python",
   "nbconvert_exporter": "python",
   "pygments_lexer": "ipython3",
   "version": "3.9.13"
  },
  "orig_nbformat": 4,
  "vscode": {
   "interpreter": {
    "hash": "c427bd4959319f45364ecca0c476dd7b8f05cb287d93ab0e9fb877af8bcc1033"
   }
  }
 },
 "nbformat": 4,
 "nbformat_minor": 2
}
